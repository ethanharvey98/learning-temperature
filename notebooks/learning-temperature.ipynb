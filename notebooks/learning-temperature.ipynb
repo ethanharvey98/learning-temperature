{
 "cells": [
  {
   "cell_type": "code",
   "execution_count": 1,
   "metadata": {},
   "outputs": [
    {
     "data": {
      "text/plain": [
       "<torch._C.Generator at 0x2b056b8fd610>"
      ]
     },
     "execution_count": 1,
     "metadata": {},
     "output_type": "execute_result"
    }
   ],
   "source": [
    "import math\n",
    "import tqdm\n",
    "import itertools\n",
    "import copy\n",
    "import types\n",
    "import numpy as np\n",
    "import pandas as pd\n",
    "import matplotlib.pyplot as plt\n",
    "plt.rcParams.update({'font.size': 14})\n",
    "from matplotlib.colors import LinearSegmentedColormap\n",
    "from sklearn.datasets import make_moons\n",
    "# PyTorch\n",
    "import torch\n",
    "torch.manual_seed(42)"
   ]
  },
  {
   "cell_type": "code",
   "execution_count": 2,
   "metadata": {},
   "outputs": [],
   "source": [
    "import sys\n",
    "sys.path.append('../src/')\n",
    "\n",
    "%load_ext autoreload\n",
    "%autoreload 2\n",
    "# Importing our custom module(s)\n",
    "import layers\n",
    "import losses\n",
    "import utils"
   ]
  },
  {
   "cell_type": "code",
   "execution_count": 3,
   "metadata": {},
   "outputs": [
    {
     "data": {
      "image/png": "[encoded data removed]",
      "text/plain": [
       "<Figure size 400x300 with 1 Axes>"
      ]
     },
     "metadata": {},
     "output_type": "display_data"
    }
   ],
   "source": [
    "N = 20\n",
    "X_numpy, y_numpy = make_moons(n_samples=N, noise=0.1, random_state=42)\n",
    "\n",
    "X = torch.tensor(X_numpy, dtype=torch.float32)\n",
    "y = torch.tensor(y_numpy.reshape(-1, 1), dtype=torch.float32)\n",
    "\n",
    "X_train, X_val = X[:int((4/5)*N)], X[int((4/5)*N):]\n",
    "y_train, y_val = y[:int((4/5)*N)], y[int((4/5)*N):]\n",
    "\n",
    "ncols, nrows = 1, 1\n",
    "fig, ax = plt.subplots(figsize=(4*ncols, 3*nrows), ncols=ncols, nrows=nrows, sharex=True, sharey='row')\n",
    "ax.scatter(X_numpy[:,0][y_numpy==0], X_numpy[:,1][y_numpy==0], color='#1F77B4')\n",
    "ax.scatter(X_numpy[:,0][y_numpy==1], X_numpy[:,1][y_numpy==1], color='#D62728')\n",
    "ax.set_xlim([-1.4, 2.4])\n",
    "ax.set_ylim([-0.9, 1.4])\n",
    "plt.xlabel(r'$x$')\n",
    "plt.ylabel(r'$y$')\n",
    "fig.tight_layout()\n",
    "plt.show()"
   ]
  },
  {
   "cell_type": "code",
   "execution_count": 4,
   "metadata": {},
   "outputs": [],
   "source": [
    "def train_one_epoch(model, criterion, optimizer, X, y, num_samples=1):\n",
    "    \n",
    "    model.train()\n",
    "    optimizer.zero_grad()\n",
    "        \n",
    "    avg_metrics = {}\n",
    "    for _ in range(num_samples):\n",
    "        \n",
    "        logits = model(X)\n",
    "        logits = torch.nn.functional.normalize(logits, dim=1)\n",
    "        params = utils.flatten_params(model)\n",
    "        metrics = criterion(y, logits, params, len(X))\n",
    "        metrics['loss'].backward()\n",
    "        \n",
    "        for key, value in metrics.items():\n",
    "            avg_metrics.setdefault(key, 0.0)\n",
    "            avg_metrics[key] += (1/num_samples) * value.item()\n",
    "        \n",
    "    for param in model.parameters():\n",
    "        if param.grad is not None:\n",
    "            param.grad.data.mul_(1/num_samples)\n",
    "\n",
    "    optimizer.step()\n",
    "    \n",
    "    return avg_metrics\n",
    "\n",
    "def evaluate(model, criterion, X, y):\n",
    "    \n",
    "    model.eval()\n",
    "            \n",
    "    with torch.no_grad():\n",
    "        logits = model(X)\n",
    "        logits = torch.nn.functional.normalize(logits, dim=1)\n",
    "        params = utils.flatten_params(model)\n",
    "        metrics = criterion(y, logits, params, len(X))\n",
    "        \n",
    "    return metrics"
   ]
  },
  {
   "cell_type": "code",
   "execution_count": 5,
   "metadata": {},
   "outputs": [
    {
     "name": "stderr",
     "output_type": "stream",
     "text": [
      "100%|██████████| 10000/10000 [02:23<00:00, 69.87it/s]\n",
      "100%|██████████| 10000/10000 [02:26<00:00, 68.08it/s]\n",
      "100%|██████████| 10000/10000 [02:31<00:00, 66.16it/s]\n",
      "100%|██████████| 10000/10000 [02:36<00:00, 63.83it/s]\n"
     ]
    }
   ],
   "source": [
    "encoder = torch.nn.Sequential(\n",
    "    torch.nn.Linear(in_features=2, out_features=1024),\n",
    "    torch.nn.ReLU(),\n",
    "    torch.nn.Linear(in_features=1024, out_features=2),\n",
    ")\n",
    "encoder.sigma_param = torch.nn.Parameter(torch.log(torch.expm1(torch.tensor(1e-4))))\n",
    "encoder.temperature_param = torch.nn.Parameter(torch.log(torch.expm1(torch.tensor(0.5))))\n",
    "utils.add_variational_layers(encoder, encoder.sigma_param)\n",
    "encoder.use_posterior = types.MethodType(utils.use_posterior, encoder)\n",
    "init_state_dict = copy.deepcopy(encoder.state_dict())\n",
    "\n",
    "criterion = losses.KappaELBoLoss(1.0, encoder.sigma_param, criterion=losses.SINCERELoss(encoder.temperature_param))\n",
    "\n",
    "best_state_dict = None\n",
    "best_metric = np.inf\n",
    "\n",
    "columns = ['epoch', 'lr', 'train_loss']\n",
    "temp_df = pd.DataFrame(columns=columns)\n",
    "\n",
    "for lr in [0.1, 0.01, 0.001, 0.0001]:\n",
    "    \n",
    "    encoder.load_state_dict(init_state_dict)\n",
    "    optimizer = torch.optim.Adam(encoder.parameters(), lr=lr, weight_decay=0.0)\n",
    "    \n",
    "    for epoch in tqdm.tqdm(range(10_000)):\n",
    "        train_metrics = train_one_epoch(encoder, criterion, optimizer, X, y.view(-1).long(), 5)\n",
    "        temp_df.loc[len(temp_df)] = [epoch, lr, train_metrics['loss']]\n",
    "\n",
    "    if train_metrics['loss'] < best_metric:\n",
    "        best_state_dict = copy.deepcopy(encoder.state_dict())\n",
    "        best_metric = train_metrics['loss']\n",
    "        \n",
    "encoder.load_state_dict(best_state_dict)\n",
    "encoder.eval()\n",
    "\n",
    "with torch.no_grad():    \n",
    "    elbo_embeddings = encoder(X)\n",
    "    elbo_embeddings = torch.nn.functional.normalize(elbo_embeddings, dim=1)\n",
    "    torch.save(elbo_embeddings, 'classification_elbo_embeddings.pt')"
   ]
  },
  {
   "cell_type": "code",
   "execution_count": 6,
   "metadata": {},
   "outputs": [
    {
     "data": {
      "image/png": "[encoded data removed]",
      "text/plain": [
       "<Figure size 400x300 with 1 Axes>"
      ]
     },
     "metadata": {},
     "output_type": "display_data"
    }
   ],
   "source": [
    "lr = 0.1\n",
    "\n",
    "ncols, nrows = 1, 1\n",
    "fig, ax = plt.subplots(figsize=(4*ncols, 3*nrows), ncols=ncols, nrows=nrows)\n",
    "\n",
    "ax.plot(temp_df[temp_df.lr==lr].epoch.values, temp_df[temp_df.lr==lr].train_loss.values)\n",
    "ax.set_yscale('log')\n",
    "\n",
    "plt.show()"
   ]
  },
  {
   "cell_type": "code",
   "execution_count": 8,
   "metadata": {},
   "outputs": [
    {
     "name": "stderr",
     "output_type": "stream",
     "text": [
      "100%|██████████| 10000/10000 [02:21<00:00, 70.80it/s]\n",
      "100%|██████████| 10000/10000 [02:26<00:00, 68.25it/s]\n",
      "100%|██████████| 10000/10000 [02:30<00:00, 66.33it/s]\n",
      "100%|██████████| 10000/10000 [02:34<00:00, 64.68it/s]\n"
     ]
    }
   ],
   "source": [
    "encoder = torch.nn.Sequential(\n",
    "    torch.nn.Linear(in_features=2, out_features=1024),\n",
    "    torch.nn.ReLU(),\n",
    "    torch.nn.Linear(in_features=1024, out_features=2),\n",
    ")\n",
    "encoder.sigma_param = torch.nn.Parameter(torch.log(torch.expm1(torch.tensor(1e-4))))\n",
    "encoder.temperature_param = torch.nn.Parameter(torch.log(torch.expm1(torch.tensor(0.5))))\n",
    "utils.add_variational_layers(encoder, encoder.sigma_param)\n",
    "encoder.use_posterior = types.MethodType(utils.use_posterior, encoder)\n",
    "init_state_dict = copy.deepcopy(encoder.state_dict())\n",
    "\n",
    "criterion = losses.KappaELBoLoss(len(utils.flatten_params(encoder))/len(X), encoder.sigma_param, criterion=losses.SINCERELoss(encoder.temperature_param))\n",
    "\n",
    "best_state_dict = None\n",
    "best_metric = np.inf\n",
    "\n",
    "columns = ['epoch', 'lr', 'train_loss']\n",
    "temp_df = pd.DataFrame(columns=columns)\n",
    "\n",
    "for lr in [0.1, 0.01, 0.001, 0.0001]:\n",
    "    \n",
    "    encoder.load_state_dict(init_state_dict)\n",
    "    optimizer = torch.optim.Adam(encoder.parameters(), lr=lr, weight_decay=0.0)\n",
    "    \n",
    "    for epoch in tqdm.tqdm(range(10_000)):\n",
    "        train_metrics = train_one_epoch(encoder, criterion, optimizer, X, y.view(-1).long(), 5)\n",
    "        temp_df.loc[len(temp_df)] = [epoch, lr, train_metrics['loss']]\n",
    "\n",
    "    if train_metrics['loss'] < best_metric:\n",
    "        best_state_dict = copy.deepcopy(encoder.state_dict())\n",
    "        best_metric = train_metrics['loss']\n",
    "        \n",
    "encoder.load_state_dict(best_state_dict)\n",
    "encoder.eval()\n",
    "\n",
    "with torch.no_grad():    \n",
    "    de_elbo_embeddings = encoder(X)\n",
    "    de_elbo_embeddings = torch.nn.functional.normalize(de_elbo_embeddings, dim=1)\n",
    "    torch.save(de_elbo_embeddings, 'classification_de_elbo_embeddings.pt')"
   ]
  },
  {
   "cell_type": "code",
   "execution_count": 9,
   "metadata": {},
   "outputs": [
    {
     "data": {
      "image/png": "[encoded data removed]",
      "text/plain": [
       "<Figure size 400x300 with 1 Axes>"
      ]
     },
     "metadata": {},
     "output_type": "display_data"
    }
   ],
   "source": [
    "lr = 0.1\n",
    "\n",
    "ncols, nrows = 1, 1\n",
    "fig, ax = plt.subplots(figsize=(4*ncols, 3*nrows), ncols=ncols, nrows=nrows)\n",
    "\n",
    "ax.plot(temp_df[temp_df.lr==lr].epoch.values, temp_df[temp_df.lr==lr].train_loss.values)\n",
    "ax.set_yscale('log')\n",
    "\n",
    "plt.show()"
   ]
  },
  {
   "cell_type": "code",
   "execution_count": 10,
   "metadata": {},
   "outputs": [],
   "source": [
    "elbo_embeddings = torch.load('classification_elbo_embeddings.pt', weights_only=False)\n",
    "de_elbo_embeddings = torch.load('classification_de_elbo_embeddings.pt', weights_only=False)"
   ]
  },
  {
   "cell_type": "code",
   "execution_count": 12,
   "metadata": {},
   "outputs": [
    {
     "data": {
      "image/png": "[encoded data removed]",
      "text/plain": [
       "<Figure size 800x400 with 2 Axes>"
      ]
     },
     "metadata": {},
     "output_type": "display_data"
    }
   ],
   "source": [
    "ncols, nrows = 2, 1\n",
    "fig, axs = plt.subplots(figsize=(4*ncols, 4*nrows), ncols=ncols, nrows=nrows, sharex=True, sharey='row')\n",
    "\n",
    "axs[0].scatter(elbo_embeddings[:,0][y_numpy==0], elbo_embeddings[:,1][y_numpy==0], color='#1F77B4')\n",
    "axs[0].scatter(elbo_embeddings[:,0][y_numpy==1], elbo_embeddings[:,1][y_numpy==1], color='#D62728')\n",
    "axs[0].set_xlim([-1.1, 1.1])\n",
    "axs[0].set_ylim([-1.1, 1.1])\n",
    "axs[0].set_xlabel(r'$z_1$')\n",
    "axs[0].set_ylabel(r'$z_2$')\n",
    "\n",
    "axs[1].scatter(de_elbo_embeddings[:,0][y_numpy==0], de_elbo_embeddings[:,1][y_numpy==0], color='#1F77B4')\n",
    "axs[1].scatter(de_elbo_embeddings[:,0][y_numpy==1], de_elbo_embeddings[:,1][y_numpy==1], color='#D62728')\n",
    "axs[1].set_xlim([-1.1, 1.1])\n",
    "axs[1].set_ylim([-1.1, 1.1])\n",
    "axs[1].set_xlabel(r'$z_1$')\n",
    "\n",
    "fig.tight_layout()\n",
    "plt.show()"
   ]
  },
  {
   "cell_type": "code",
   "execution_count": null,
   "metadata": {},
   "outputs": [],
   "source": []
  }
 ],
 "metadata": {
  "kernelspec": {
   "display_name": "l3d_2024f_cuda12_1",
   "language": "python",
   "name": "l3d_2024f_cuda12_1"
  },
  "language_info": {
   "codemirror_mode": {
    "name": "ipython",
    "version": 3
   },
   "file_extension": ".py",
   "mimetype": "text/x-python",
   "name": "python",
   "nbconvert_exporter": "python",
   "pygments_lexer": "ipython3",
   "version": "3.12.5"
  }
 },
 "nbformat": 4,
 "nbformat_minor": 2
}
